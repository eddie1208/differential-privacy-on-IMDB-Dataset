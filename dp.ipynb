{
 "cells": [
  {
   "cell_type": "code",
   "execution_count": 3,
   "id": "57619526-a8c4-4222-acce-339a0149cf38",
   "metadata": {},
   "outputs": [],
   "source": [
    "import numpy as np\n",
    "import pydp as dp  \n",
    "from pydp.algorithms.laplacian import BoundedSum, BoundedMean, Count, Max,Count,Min\n",
    "import pandas as pd\n",
    "import re\n",
    "import statistics"
   ]
  },
  {
   "cell_type": "code",
   "execution_count": 4,
   "id": "15541c0d-2393-4621-a1e8-5a3507a17a23",
   "metadata": {},
   "outputs": [],
   "source": [
    "class DataClean:\n",
    "    def __init__(self):\n",
    "        self.column_name = []\n",
    "        self.titles = []\n",
    "        self.find_score = dict()\n",
    "  \n",
    "    def add_column(self, column: str):\n",
    "        name_regex = re.compile(r'^[a-zA-Z ]+$')\n",
    "        if not name_regex.match(column):\n",
    "            raise RuntimeError(\"illegal column adding\")\n",
    "        self.column_name.append(column)\n",
    "\n",
    "    def data_clean(self, name: str, columns: list[str]):\n",
    "        df = pd.read_excel(name)\n",
    "        for index, column in enumerate(columns):\n",
    "            self.add_column(column)\n",
    "            self.find_score[column] = index\n",
    "        df = df.loc[:, self.column_name]\n",
    "        df = df.dropna(axis=0, how='any')\n",
    "        df.loc[:, \"Hidden Gem Score\"]= df[\"Hidden Gem Score\"].apply(lambda x:x * 10)\n",
    "        df.loc[:, \"IMDb Score\"]= df[\"IMDb Score\"].apply(lambda x:x* 10)\n",
    "        df.loc[:, \"Genre\"]= df[\"Genre\"].apply(lambda x:[i.strip() for i in x.split(\",\")])\n",
    "        return df"
   ]
  },
  {
   "cell_type": "code",
   "execution_count": 5,
   "id": "74747a02-1528-454e-ade9-0bd934819314",
   "metadata": {},
   "outputs": [],
   "source": [
    "dc = DataClean()\n",
    "filename = \"Netflix Dataset Latest 2021.xlsx\"\n",
    "column_name = ['Title','Genre','Hidden Gem Score', 'IMDb Score', 'Metacritic Score', 'Rotten Tomatoes Score']\n",
    "df = dc.data_clean(filename, column_name)"
   ]
  },
  {
   "cell_type": "code",
   "execution_count": 20,
   "id": "2caf7eb1-4b25-496f-8ed1-b813b3bf2175",
   "metadata": {},
   "outputs": [],
   "source": [
    "def highest_rated_movie(df,privacy_budget):\n",
    "    means = [(df.iloc[i, 2:6].mean()) for i in range(df.shape[0])]\n",
    "    max = Max(epsilon = privacy_budget, lower_bound = 0, upper_bound = 100, dtype=\"float\")\n",
    "    max_rating = max.quick_result(means)\n",
    "    process = [abs(x - max_rating) for x in means]\n",
    "    orig_indices = list(df.index)\n",
    "    min_index = orig_indices[np.argmin(process)]\n",
    "    selected_row = df.loc[min_index, :]\n",
    "    return selected_row\n",
    "\n",
    "def highest_rated_movie_per_genre(df,privacy_budget,genre):\n",
    "    means = [(df.iloc[i, 2:6].mean()) for i in range(df.shape[0]) if genre in df.iloc[i, 1]]\n",
    "    max = Max(epsilon = privacy_budget, lower_bound = 0, upper_bound = 100, dtype=\"float\")\n",
    "    max_rating = max.quick_result(means)\n",
    "    process = [abs(x - max_rating) for x in means]\n",
    "    orig_indices = list(df.index)\n",
    "    min_index = orig_indices[np.argmin(process)]\n",
    "    selected_row = df.loc[min_index, :]\n",
    "    return selected_row\n",
    "\n",
    "def lowest_rated_movie(df,privacy_budget):\n",
    "    means = [(df.iloc[i, 2:6].mean()) for i in range(df.shape[0])]\n",
    "    max = Min(epsilon = privacy_budget ,lower_bound = 0, upper_bound = 100, dtype=\"float\")\n",
    "    max_rating = max.quick_result(means)\n",
    "    orig_indices = list(df.index)\n",
    "    min_index = orig_indices[np.argmin(means)]\n",
    "    selected_row = df.loc[min_index, :]\n",
    "    return selected_row\n",
    "\n",
    "def movie_count_above_rating(df,privacy_budget,thresh):\n",
    "    if not 0.0 <= thresh <= 100.0:\n",
    "        raise ValueError(\"invalid threshhold\")\n",
    "    means = [(df.iloc[i, 2:6].mean()) for i in range(df.shape[0]) if(df.iloc[i, 2:6].mean()) > thresh ]\n",
    "    x = Count(privacy_budget, dtype=\"float\")\n",
    "    return x.quick_result(means)\n",
    "\n",
    "def average_per_genre(df,privacy_budget,genre):\n",
    "    means = [(df.iloc[i, 2:6].mean()) for i in range(df.shape[0]) if genre in df.iloc[i, 1] ]\n",
    "    x = BoundedMean(privacy_budget, 0, 1, 100,dtype=\"float\")\n",
    "    return x.quick_result(means)\n",
    "\n",
    "def average_per_genre_scoretype(df,privacy_budget,genre,scoretype):\n",
    "    try:\n",
    "        column_num = df.columns.get_loc(scoretype)\n",
    "    except:\n",
    "        raise ValueError(\"invalid scoretype argument\")\n",
    "    means = [df.iloc[i, column_num] for i in range(df.shape[0]) if genre in df.iloc[i, 1] ]\n",
    "    x = BoundedMean(privacy_budget, 0, 1, 100,dtype=\"float\")\n",
    "    return x.quick_result(means)\n"
   ]
  },
  {
   "cell_type": "code",
   "execution_count": 22,
   "id": "2daf6e6d-f681-4127-8106-473535a3ec0e",
   "metadata": {},
   "outputs": [],
   "source": [
    "#non-dp\n",
    "def highest_rated_movie_nodf(df):\n",
    "        means = [(df.iloc[i, 2:6].mean()) for i in range(df.shape[0])]\n",
    "        max_rating = max(means)\n",
    "        process = [abs(x - max_rating) for x in means]\n",
    "        orig_indices = list(df.index)\n",
    "        min_index = orig_indices[np.argmin(process)]\n",
    "        selected_row = df.loc[min_index, :]\n",
    "        return selected_row\n",
    "\n",
    "def highest_rated_movie_per_genre_nodf( df, genre):\n",
    "    means = [(df.iloc[i, 2:6].mean()) for i in range(df.shape[0]) if genre in df.iloc[i, 1]]\n",
    "    max_rating = max(means)\n",
    "    process = [abs(x - max_rating) for x in means]\n",
    "    orig_indices = list(df.index)\n",
    "    min_index = orig_indices[np.argmin(process)]\n",
    "    selected_row = df.loc[min_index, :]\n",
    "    return selected_row\n",
    "\n",
    "def movie_count_above_rating_nodf(df, thresh):\n",
    "    if not 0.0 <= thresh <= 100.0:\n",
    "        raise ValueError(\"invalid threshhold\")\n",
    "    means = [(df.iloc[i, 2:6].mean()) for i in range(df.shape[0]) if(df.iloc[i, 2:6].mean()) > thresh ]\n",
    "    return len(means)\n",
    "\n",
    "\n",
    "def average_per_genre_nodf( df, genre):\n",
    "    means = [(df.iloc[i, 2:6].mean()) for i in range(df.shape[0]) if genre in df.iloc[i, 1] ]\n",
    "    return sum(means) / len(means) if len(means) > 0 else 0.0\n",
    "\n",
    "\n",
    "def average_per_genre_scoretype_nodf( df, genre, scoretype):\n",
    "    try:\n",
    "        column_num = df.columns.get_loc(scoretype)\n",
    "    except:\n",
    "        raise ValueError(\"invalid scoretype argument\")\n",
    "    means = [df.iloc[i, column_num] for i in range(df.shape[0]) if genre in df.iloc[i, 1] ]\n",
    "    return sum(means) / len(means) if len(means) > 0 else 0.0\n",
    "\n",
    "def lowest_rated_movie_nodf( df):\n",
    "    means = [(df.iloc[i, 2:6].mean()) for i in range(df.shape[0])]\n",
    "    max_rating = min(means)\n",
    "    #process = [abs(x - max_rating) for x in means]\n",
    "    orig_indices = list(df.index)\n",
    "    min_index = orig_indices[np.argmin(means)]\n",
    "    selected_row = df.loc[min_index, :]\n",
    "    return selected_row\n"
   ]
  },
  {
   "cell_type": "code",
   "execution_count": 31,
   "id": "96d69dce-c444-4469-857d-7f199130644f",
   "metadata": {},
   "outputs": [
    {
     "data": {
      "text/plain": [
       "Title                    Bending the Arc\n",
       "Genre                      [Documentary]\n",
       "Hidden Gem Score                    92.0\n",
       "IMDb Score                          77.0\n",
       "Metacritic Score                    80.0\n",
       "Rotten Tomatoes Score              100.0\n",
       "Name: 734, dtype: object"
      ]
     },
     "execution_count": 31,
     "metadata": {},
     "output_type": "execute_result"
    }
   ],
   "source": [
    "lisst= highest_rated_movie_nodf(df)\n",
    "lisst1= highest_rated_movie(df,0.1)\n",
    "lisst2= highest_rated_movie(df,0.9)\n",
    "lisst"
   ]
  },
  {
   "cell_type": "code",
   "execution_count": 32,
   "id": "eb121f8a-605f-422e-aa5a-a429bd890b61",
   "metadata": {},
   "outputs": [
    {
     "data": {
      "text/plain": [
       "Title                        Screwball\n",
       "Genre                    [Documentary]\n",
       "Hidden Gem Score                  83.0\n",
       "IMDb Score                        71.0\n",
       "Metacritic Score                  72.0\n",
       "Rotten Tomatoes Score             94.0\n",
       "Name: 2514, dtype: object"
      ]
     },
     "execution_count": 32,
     "metadata": {},
     "output_type": "execute_result"
    }
   ],
   "source": [
    "lisst1"
   ]
  },
  {
   "cell_type": "code",
   "execution_count": 33,
   "id": "5a7cc035-6665-448b-9d4c-ed4a9f9ad903",
   "metadata": {},
   "outputs": [
    {
     "data": {
      "text/plain": [
       "Title                    Hotel by the River\n",
       "Genre                               [Drama]\n",
       "Hidden Gem Score                       85.0\n",
       "IMDb Score                             67.0\n",
       "Metacritic Score                       79.0\n",
       "Rotten Tomatoes Score                  95.0\n",
       "Name: 344, dtype: object"
      ]
     },
     "execution_count": 33,
     "metadata": {},
     "output_type": "execute_result"
    }
   ],
   "source": [
    "lisst2"
   ]
  }
 ],
 "metadata": {
  "kernelspec": {
   "display_name": "Python 3 (ipykernel)",
   "language": "python",
   "name": "python3"
  },
  "language_info": {
   "codemirror_mode": {
    "name": "ipython",
    "version": 3
   },
   "file_extension": ".py",
   "mimetype": "text/x-python",
   "name": "python",
   "nbconvert_exporter": "python",
   "pygments_lexer": "ipython3",
   "version": "3.9.6"
  }
 },
 "nbformat": 4,
 "nbformat_minor": 5
}
