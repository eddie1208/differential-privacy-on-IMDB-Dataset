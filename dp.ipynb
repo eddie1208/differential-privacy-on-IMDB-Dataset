{
 "cells": [
  {
   "cell_type": "code",
   "execution_count": 3,
   "id": "57619526-a8c4-4222-acce-339a0149cf38",
   "metadata": {},
   "outputs": [],
   "source": [
    "import numpy as np\n",
    "import pydp as dp  \n",
    "from pydp.algorithms.laplacian import BoundedSum, BoundedMean, Count, Max,Count,Min\n",
    "import pandas as pd\n",
    "import re\n",
    "import statistics"
   ]
  },
  {
   "cell_type": "code",
   "execution_count": 4,
   "id": "15541c0d-2393-4621-a1e8-5a3507a17a23",
   "metadata": {},
   "outputs": [],
   "source": [
    "class DataClean:\n",
    "    def __init__(self):\n",
    "        self.column_name = []\n",
    "        self.titles = []\n",
    "        self.find_score = dict()\n",
    "  \n",
    "    def add_column(self, column: str):\n",
    "        name_regex = re.compile(r'^[a-zA-Z ]+$')\n",
    "        if not name_regex.match(column):\n",
    "            raise RuntimeError(\"illegal column adding\")\n",
    "        self.column_name.append(column)\n",
    "\n",
    "    def data_clean(self, name: str, columns: list[str]):\n",
    "        df = pd.read_excel(name)\n",
    "        for index, column in enumerate(columns):\n",
    "            self.add_column(column)\n",
    "            self.find_score[column] = index\n",
    "        df = df.loc[:, self.column_name]\n",
    "        df = df.dropna(axis=0, how='any')\n",
    "        df.loc[:, \"Hidden Gem Score\"]= df[\"Hidden Gem Score\"].apply(lambda x:x * 10)\n",
    "        df.loc[:, \"IMDb Score\"]= df[\"IMDb Score\"].apply(lambda x:x* 10)\n",
    "        df.loc[:, \"Genre\"]= df[\"Genre\"].apply(lambda x:[i.strip() for i in x.split(\",\")])\n",
    "        return df"
   ]
  },
  {
   "cell_type": "code",
   "execution_count": 5,
   "id": "74747a02-1528-454e-ade9-0bd934819314",
   "metadata": {},
   "outputs": [],
   "source": [
    "dc = DataClean()\n",
    "filename = \"Netflix Dataset Latest 2021.xlsx\"\n",
    "column_name = ['Title','Genre','Hidden Gem Score', 'IMDb Score', 'Metacritic Score', 'Rotten Tomatoes Score']\n",
    "df = dc.data_clean(filename, column_name)"
   ]
  },
  {
   "cell_type": "code",
   "execution_count": 6,
   "id": "0fff8b7f-2273-4e80-a2f4-4b67bdd06251",
   "metadata": {},
   "outputs": [
    {
     "ename": "KeyError",
     "evalue": "2",
     "output_type": "error",
     "traceback": [
      "\u001b[1;31m---------------------------------------------------------------------------\u001b[0m",
      "\u001b[1;31mKeyError\u001b[0m                                  Traceback (most recent call last)",
      "\u001b[1;32mc:\\python39\\lib\\site-packages\\pandas\\core\\indexes\\base.py\u001b[0m in \u001b[0;36mget_loc\u001b[1;34m(self, key, method, tolerance)\u001b[0m\n\u001b[0;32m   3620\u001b[0m             \u001b[1;32mtry\u001b[0m\u001b[1;33m:\u001b[0m\u001b[1;33m\u001b[0m\u001b[1;33m\u001b[0m\u001b[0m\n\u001b[1;32m-> 3621\u001b[1;33m                 \u001b[1;32mreturn\u001b[0m \u001b[0mself\u001b[0m\u001b[1;33m.\u001b[0m\u001b[0m_engine\u001b[0m\u001b[1;33m.\u001b[0m\u001b[0mget_loc\u001b[0m\u001b[1;33m(\u001b[0m\u001b[0mcasted_key\u001b[0m\u001b[1;33m)\u001b[0m\u001b[1;33m\u001b[0m\u001b[1;33m\u001b[0m\u001b[0m\n\u001b[0m\u001b[0;32m   3622\u001b[0m             \u001b[1;32mexcept\u001b[0m \u001b[0mKeyError\u001b[0m \u001b[1;32mas\u001b[0m \u001b[0merr\u001b[0m\u001b[1;33m:\u001b[0m\u001b[1;33m\u001b[0m\u001b[1;33m\u001b[0m\u001b[0m\n",
      "\u001b[1;32mc:\\python39\\lib\\site-packages\\pandas\\_libs\\index.pyx\u001b[0m in \u001b[0;36mpandas._libs.index.IndexEngine.get_loc\u001b[1;34m()\u001b[0m\n",
      "\u001b[1;32mc:\\python39\\lib\\site-packages\\pandas\\_libs\\index.pyx\u001b[0m in \u001b[0;36mpandas._libs.index.IndexEngine.get_loc\u001b[1;34m()\u001b[0m\n",
      "\u001b[1;32mpandas\\_libs\\hashtable_class_helper.pxi\u001b[0m in \u001b[0;36mpandas._libs.hashtable.Int64HashTable.get_item\u001b[1;34m()\u001b[0m\n",
      "\u001b[1;32mpandas\\_libs\\hashtable_class_helper.pxi\u001b[0m in \u001b[0;36mpandas._libs.hashtable.Int64HashTable.get_item\u001b[1;34m()\u001b[0m\n",
      "\u001b[1;31mKeyError\u001b[0m: 2",
      "\nThe above exception was the direct cause of the following exception:\n",
      "\u001b[1;31mKeyError\u001b[0m                                  Traceback (most recent call last)",
      "\u001b[1;32m~\\AppData\\Local\\Temp/ipykernel_30540/3982542709.py\u001b[0m in \u001b[0;36m<module>\u001b[1;34m\u001b[0m\n\u001b[0;32m      1\u001b[0m \u001b[0mdfcopy\u001b[0m \u001b[1;33m=\u001b[0m \u001b[0mdf\u001b[0m\u001b[1;33m\u001b[0m\u001b[1;33m\u001b[0m\u001b[0m\n\u001b[1;32m----> 2\u001b[1;33m \u001b[0mdfcopy\u001b[0m\u001b[1;33m.\u001b[0m\u001b[0mloc\u001b[0m\u001b[1;33m[\u001b[0m\u001b[1;36m2\u001b[0m\u001b[1;33m,\u001b[0m\u001b[1;33m:\u001b[0m\u001b[1;33m]\u001b[0m\u001b[1;33m\u001b[0m\u001b[1;33m\u001b[0m\u001b[0m\n\u001b[0m",
      "\u001b[1;32mc:\\python39\\lib\\site-packages\\pandas\\core\\indexing.py\u001b[0m in \u001b[0;36m__getitem__\u001b[1;34m(self, key)\u001b[0m\n\u001b[0;32m    959\u001b[0m             \u001b[1;32mif\u001b[0m \u001b[0mself\u001b[0m\u001b[1;33m.\u001b[0m\u001b[0m_is_scalar_access\u001b[0m\u001b[1;33m(\u001b[0m\u001b[0mkey\u001b[0m\u001b[1;33m)\u001b[0m\u001b[1;33m:\u001b[0m\u001b[1;33m\u001b[0m\u001b[1;33m\u001b[0m\u001b[0m\n\u001b[0;32m    960\u001b[0m                 \u001b[1;32mreturn\u001b[0m \u001b[0mself\u001b[0m\u001b[1;33m.\u001b[0m\u001b[0mobj\u001b[0m\u001b[1;33m.\u001b[0m\u001b[0m_get_value\u001b[0m\u001b[1;33m(\u001b[0m\u001b[1;33m*\u001b[0m\u001b[0mkey\u001b[0m\u001b[1;33m,\u001b[0m \u001b[0mtakeable\u001b[0m\u001b[1;33m=\u001b[0m\u001b[0mself\u001b[0m\u001b[1;33m.\u001b[0m\u001b[0m_takeable\u001b[0m\u001b[1;33m)\u001b[0m\u001b[1;33m\u001b[0m\u001b[1;33m\u001b[0m\u001b[0m\n\u001b[1;32m--> 961\u001b[1;33m             \u001b[1;32mreturn\u001b[0m \u001b[0mself\u001b[0m\u001b[1;33m.\u001b[0m\u001b[0m_getitem_tuple\u001b[0m\u001b[1;33m(\u001b[0m\u001b[0mkey\u001b[0m\u001b[1;33m)\u001b[0m\u001b[1;33m\u001b[0m\u001b[1;33m\u001b[0m\u001b[0m\n\u001b[0m\u001b[0;32m    962\u001b[0m         \u001b[1;32melse\u001b[0m\u001b[1;33m:\u001b[0m\u001b[1;33m\u001b[0m\u001b[1;33m\u001b[0m\u001b[0m\n\u001b[0;32m    963\u001b[0m             \u001b[1;31m# we by definition only have the 0th axis\u001b[0m\u001b[1;33m\u001b[0m\u001b[1;33m\u001b[0m\u001b[1;33m\u001b[0m\u001b[0m\n",
      "\u001b[1;32mc:\\python39\\lib\\site-packages\\pandas\\core\\indexing.py\u001b[0m in \u001b[0;36m_getitem_tuple\u001b[1;34m(self, tup)\u001b[0m\n\u001b[0;32m   1138\u001b[0m         \u001b[1;32mwith\u001b[0m \u001b[0msuppress\u001b[0m\u001b[1;33m(\u001b[0m\u001b[0mIndexingError\u001b[0m\u001b[1;33m)\u001b[0m\u001b[1;33m:\u001b[0m\u001b[1;33m\u001b[0m\u001b[1;33m\u001b[0m\u001b[0m\n\u001b[0;32m   1139\u001b[0m             \u001b[0mtup\u001b[0m \u001b[1;33m=\u001b[0m \u001b[0mself\u001b[0m\u001b[1;33m.\u001b[0m\u001b[0m_expand_ellipsis\u001b[0m\u001b[1;33m(\u001b[0m\u001b[0mtup\u001b[0m\u001b[1;33m)\u001b[0m\u001b[1;33m\u001b[0m\u001b[1;33m\u001b[0m\u001b[0m\n\u001b[1;32m-> 1140\u001b[1;33m             \u001b[1;32mreturn\u001b[0m \u001b[0mself\u001b[0m\u001b[1;33m.\u001b[0m\u001b[0m_getitem_lowerdim\u001b[0m\u001b[1;33m(\u001b[0m\u001b[0mtup\u001b[0m\u001b[1;33m)\u001b[0m\u001b[1;33m\u001b[0m\u001b[1;33m\u001b[0m\u001b[0m\n\u001b[0m\u001b[0;32m   1141\u001b[0m \u001b[1;33m\u001b[0m\u001b[0m\n\u001b[0;32m   1142\u001b[0m         \u001b[1;31m# no multi-index, so validate all of the indexers\u001b[0m\u001b[1;33m\u001b[0m\u001b[1;33m\u001b[0m\u001b[1;33m\u001b[0m\u001b[0m\n",
      "\u001b[1;32mc:\\python39\\lib\\site-packages\\pandas\\core\\indexing.py\u001b[0m in \u001b[0;36m_getitem_lowerdim\u001b[1;34m(self, tup)\u001b[0m\n\u001b[0;32m    865\u001b[0m                 \u001b[1;31m# We don't need to check for tuples here because those are\u001b[0m\u001b[1;33m\u001b[0m\u001b[1;33m\u001b[0m\u001b[1;33m\u001b[0m\u001b[0m\n\u001b[0;32m    866\u001b[0m                 \u001b[1;31m#  caught by the _is_nested_tuple_indexer check above.\u001b[0m\u001b[1;33m\u001b[0m\u001b[1;33m\u001b[0m\u001b[1;33m\u001b[0m\u001b[0m\n\u001b[1;32m--> 867\u001b[1;33m                 \u001b[0msection\u001b[0m \u001b[1;33m=\u001b[0m \u001b[0mself\u001b[0m\u001b[1;33m.\u001b[0m\u001b[0m_getitem_axis\u001b[0m\u001b[1;33m(\u001b[0m\u001b[0mkey\u001b[0m\u001b[1;33m,\u001b[0m \u001b[0maxis\u001b[0m\u001b[1;33m=\u001b[0m\u001b[0mi\u001b[0m\u001b[1;33m)\u001b[0m\u001b[1;33m\u001b[0m\u001b[1;33m\u001b[0m\u001b[0m\n\u001b[0m\u001b[0;32m    868\u001b[0m \u001b[1;33m\u001b[0m\u001b[0m\n\u001b[0;32m    869\u001b[0m                 \u001b[1;31m# We should never have a scalar section here, because\u001b[0m\u001b[1;33m\u001b[0m\u001b[1;33m\u001b[0m\u001b[1;33m\u001b[0m\u001b[0m\n",
      "\u001b[1;32mc:\\python39\\lib\\site-packages\\pandas\\core\\indexing.py\u001b[0m in \u001b[0;36m_getitem_axis\u001b[1;34m(self, key, axis)\u001b[0m\n\u001b[0;32m   1200\u001b[0m         \u001b[1;31m# fall thru to straight lookup\u001b[0m\u001b[1;33m\u001b[0m\u001b[1;33m\u001b[0m\u001b[1;33m\u001b[0m\u001b[0m\n\u001b[0;32m   1201\u001b[0m         \u001b[0mself\u001b[0m\u001b[1;33m.\u001b[0m\u001b[0m_validate_key\u001b[0m\u001b[1;33m(\u001b[0m\u001b[0mkey\u001b[0m\u001b[1;33m,\u001b[0m \u001b[0maxis\u001b[0m\u001b[1;33m)\u001b[0m\u001b[1;33m\u001b[0m\u001b[1;33m\u001b[0m\u001b[0m\n\u001b[1;32m-> 1202\u001b[1;33m         \u001b[1;32mreturn\u001b[0m \u001b[0mself\u001b[0m\u001b[1;33m.\u001b[0m\u001b[0m_get_label\u001b[0m\u001b[1;33m(\u001b[0m\u001b[0mkey\u001b[0m\u001b[1;33m,\u001b[0m \u001b[0maxis\u001b[0m\u001b[1;33m=\u001b[0m\u001b[0maxis\u001b[0m\u001b[1;33m)\u001b[0m\u001b[1;33m\u001b[0m\u001b[1;33m\u001b[0m\u001b[0m\n\u001b[0m\u001b[0;32m   1203\u001b[0m \u001b[1;33m\u001b[0m\u001b[0m\n\u001b[0;32m   1204\u001b[0m     \u001b[1;32mdef\u001b[0m \u001b[0m_get_slice_axis\u001b[0m\u001b[1;33m(\u001b[0m\u001b[0mself\u001b[0m\u001b[1;33m,\u001b[0m \u001b[0mslice_obj\u001b[0m\u001b[1;33m:\u001b[0m \u001b[0mslice\u001b[0m\u001b[1;33m,\u001b[0m \u001b[0maxis\u001b[0m\u001b[1;33m:\u001b[0m \u001b[0mint\u001b[0m\u001b[1;33m)\u001b[0m\u001b[1;33m:\u001b[0m\u001b[1;33m\u001b[0m\u001b[1;33m\u001b[0m\u001b[0m\n",
      "\u001b[1;32mc:\\python39\\lib\\site-packages\\pandas\\core\\indexing.py\u001b[0m in \u001b[0;36m_get_label\u001b[1;34m(self, label, axis)\u001b[0m\n\u001b[0;32m   1151\u001b[0m     \u001b[1;32mdef\u001b[0m \u001b[0m_get_label\u001b[0m\u001b[1;33m(\u001b[0m\u001b[0mself\u001b[0m\u001b[1;33m,\u001b[0m \u001b[0mlabel\u001b[0m\u001b[1;33m,\u001b[0m \u001b[0maxis\u001b[0m\u001b[1;33m:\u001b[0m \u001b[0mint\u001b[0m\u001b[1;33m)\u001b[0m\u001b[1;33m:\u001b[0m\u001b[1;33m\u001b[0m\u001b[1;33m\u001b[0m\u001b[0m\n\u001b[0;32m   1152\u001b[0m         \u001b[1;31m# GH#5667 this will fail if the label is not present in the axis.\u001b[0m\u001b[1;33m\u001b[0m\u001b[1;33m\u001b[0m\u001b[1;33m\u001b[0m\u001b[0m\n\u001b[1;32m-> 1153\u001b[1;33m         \u001b[1;32mreturn\u001b[0m \u001b[0mself\u001b[0m\u001b[1;33m.\u001b[0m\u001b[0mobj\u001b[0m\u001b[1;33m.\u001b[0m\u001b[0mxs\u001b[0m\u001b[1;33m(\u001b[0m\u001b[0mlabel\u001b[0m\u001b[1;33m,\u001b[0m \u001b[0maxis\u001b[0m\u001b[1;33m=\u001b[0m\u001b[0maxis\u001b[0m\u001b[1;33m)\u001b[0m\u001b[1;33m\u001b[0m\u001b[1;33m\u001b[0m\u001b[0m\n\u001b[0m\u001b[0;32m   1154\u001b[0m \u001b[1;33m\u001b[0m\u001b[0m\n\u001b[0;32m   1155\u001b[0m     \u001b[1;32mdef\u001b[0m \u001b[0m_handle_lowerdim_multi_index_axis0\u001b[0m\u001b[1;33m(\u001b[0m\u001b[0mself\u001b[0m\u001b[1;33m,\u001b[0m \u001b[0mtup\u001b[0m\u001b[1;33m:\u001b[0m \u001b[0mtuple\u001b[0m\u001b[1;33m)\u001b[0m\u001b[1;33m:\u001b[0m\u001b[1;33m\u001b[0m\u001b[1;33m\u001b[0m\u001b[0m\n",
      "\u001b[1;32mc:\\python39\\lib\\site-packages\\pandas\\core\\generic.py\u001b[0m in \u001b[0;36mxs\u001b[1;34m(self, key, axis, level, drop_level)\u001b[0m\n\u001b[0;32m   3862\u001b[0m                     \u001b[0mnew_index\u001b[0m \u001b[1;33m=\u001b[0m \u001b[0mindex\u001b[0m\u001b[1;33m[\u001b[0m\u001b[0mloc\u001b[0m\u001b[1;33m]\u001b[0m\u001b[1;33m\u001b[0m\u001b[1;33m\u001b[0m\u001b[0m\n\u001b[0;32m   3863\u001b[0m         \u001b[1;32melse\u001b[0m\u001b[1;33m:\u001b[0m\u001b[1;33m\u001b[0m\u001b[1;33m\u001b[0m\u001b[0m\n\u001b[1;32m-> 3864\u001b[1;33m             \u001b[0mloc\u001b[0m \u001b[1;33m=\u001b[0m \u001b[0mindex\u001b[0m\u001b[1;33m.\u001b[0m\u001b[0mget_loc\u001b[0m\u001b[1;33m(\u001b[0m\u001b[0mkey\u001b[0m\u001b[1;33m)\u001b[0m\u001b[1;33m\u001b[0m\u001b[1;33m\u001b[0m\u001b[0m\n\u001b[0m\u001b[0;32m   3865\u001b[0m \u001b[1;33m\u001b[0m\u001b[0m\n\u001b[0;32m   3866\u001b[0m             \u001b[1;32mif\u001b[0m \u001b[0misinstance\u001b[0m\u001b[1;33m(\u001b[0m\u001b[0mloc\u001b[0m\u001b[1;33m,\u001b[0m \u001b[0mnp\u001b[0m\u001b[1;33m.\u001b[0m\u001b[0mndarray\u001b[0m\u001b[1;33m)\u001b[0m\u001b[1;33m:\u001b[0m\u001b[1;33m\u001b[0m\u001b[1;33m\u001b[0m\u001b[0m\n",
      "\u001b[1;32mc:\\python39\\lib\\site-packages\\pandas\\core\\indexes\\base.py\u001b[0m in \u001b[0;36mget_loc\u001b[1;34m(self, key, method, tolerance)\u001b[0m\n\u001b[0;32m   3621\u001b[0m                 \u001b[1;32mreturn\u001b[0m \u001b[0mself\u001b[0m\u001b[1;33m.\u001b[0m\u001b[0m_engine\u001b[0m\u001b[1;33m.\u001b[0m\u001b[0mget_loc\u001b[0m\u001b[1;33m(\u001b[0m\u001b[0mcasted_key\u001b[0m\u001b[1;33m)\u001b[0m\u001b[1;33m\u001b[0m\u001b[1;33m\u001b[0m\u001b[0m\n\u001b[0;32m   3622\u001b[0m             \u001b[1;32mexcept\u001b[0m \u001b[0mKeyError\u001b[0m \u001b[1;32mas\u001b[0m \u001b[0merr\u001b[0m\u001b[1;33m:\u001b[0m\u001b[1;33m\u001b[0m\u001b[1;33m\u001b[0m\u001b[0m\n\u001b[1;32m-> 3623\u001b[1;33m                 \u001b[1;32mraise\u001b[0m \u001b[0mKeyError\u001b[0m\u001b[1;33m(\u001b[0m\u001b[0mkey\u001b[0m\u001b[1;33m)\u001b[0m \u001b[1;32mfrom\u001b[0m \u001b[0merr\u001b[0m\u001b[1;33m\u001b[0m\u001b[1;33m\u001b[0m\u001b[0m\n\u001b[0m\u001b[0;32m   3624\u001b[0m             \u001b[1;32mexcept\u001b[0m \u001b[0mTypeError\u001b[0m\u001b[1;33m:\u001b[0m\u001b[1;33m\u001b[0m\u001b[1;33m\u001b[0m\u001b[0m\n\u001b[0;32m   3625\u001b[0m                 \u001b[1;31m# If we have a listlike key, _check_indexing_error will raise\u001b[0m\u001b[1;33m\u001b[0m\u001b[1;33m\u001b[0m\u001b[1;33m\u001b[0m\u001b[0m\n",
      "\u001b[1;31mKeyError\u001b[0m: 2"
     ]
    }
   ],
   "source": [
    "dfcopy = df\n",
    "dfcopy.loc[2,:]"
   ]
  },
  {
   "cell_type": "code",
   "execution_count": 20,
   "id": "2caf7eb1-4b25-496f-8ed1-b813b3bf2175",
   "metadata": {},
   "outputs": [],
   "source": [
    "def highest_rated_movie(df,privacy_budget):\n",
    "    means = [(df.iloc[i, 2:6].mean()) for i in range(df.shape[0])]\n",
    "    max = Max(epsilon = privacy_budget, lower_bound = 0, upper_bound = 100, dtype=\"float\")\n",
    "    max_rating = max.quick_result(means)\n",
    "    process = [abs(x - max_rating) for x in means]\n",
    "    orig_indices = list(df.index)\n",
    "    min_index = orig_indices[np.argmin(process)]\n",
    "    selected_row = df.loc[min_index, :]\n",
    "    return selected_row\n",
    "\n",
    "def highest_rated_movie_per_genre(df,privacy_budget,genre):\n",
    "    means = [(df.iloc[i, 2:6].mean()) for i in range(df.shape[0]) if genre in df.iloc[i, 1]]\n",
    "    max = Max(epsilon = privacy_budget, lower_bound = 0, upper_bound = 100, dtype=\"float\")\n",
    "    max_rating = max.quick_result(means)\n",
    "    process = [abs(x - max_rating) for x in means]\n",
    "    orig_indices = list(df.index)\n",
    "    min_index = orig_indices[np.argmin(process)]\n",
    "    selected_row = df.loc[min_index, :]\n",
    "    return selected_row\n",
    "\n",
    "def lowest_rated_movie(df,privacy_budget):\n",
    "    means = [(df.iloc[i, 2:6].mean()) for i in range(df.shape[0])]\n",
    "    max = Min(epsilon = privacy_budget ,lower_bound = 0, upper_bound = 100, dtype=\"float\")\n",
    "    max_rating = max.quick_result(means)\n",
    "    orig_indices = list(df.index)\n",
    "    min_index = orig_indices[np.argmin(means)]\n",
    "    selected_row = df.loc[min_index, :]\n",
    "    return selected_row\n",
    "\n",
    "def movie_count_above_rating(df,privacy_budget,thresh):\n",
    "    if not 0.0 <= thresh <= 100.0:\n",
    "        raise ValueError(\"invalid threshhold\")\n",
    "    means = [(df.iloc[i, 2:6].mean()) for i in range(df.shape[0]) if(df.iloc[i, 2:6].mean()) > thresh ]\n",
    "    x = Count(privacy_budget, dtype=\"float\")\n",
    "    return x.quick_result(means)\n",
    "\n",
    "def average_per_genre(df,privacy_budget,genre):\n",
    "    means = [(df.iloc[i, 2:6].mean()) for i in range(df.shape[0]) if genre in df.iloc[i, 1] ]\n",
    "    x = BoundedMean(privacy_budget, 0, 1, 100,dtype=\"float\")\n",
    "    return x.quick_result(means)\n",
    "\n",
    "def average_per_genre_scoretype(df,privacy_budget,genre,scoretype):\n",
    "    try:\n",
    "        column_num = df.columns.get_loc(scoretype)\n",
    "    except:\n",
    "        raise ValueError(\"invalid scoretype argument\")\n",
    "    means = [df.iloc[i, column_num] for i in range(df.shape[0]) if genre in df.iloc[i, 1] ]\n",
    "    x = BoundedMean(privacy_budget, 0, 1, 100,dtype=\"float\")\n",
    "    return x.quick_result(means)\n"
   ]
  },
  {
   "cell_type": "code",
   "execution_count": 22,
   "id": "2daf6e6d-f681-4127-8106-473535a3ec0e",
   "metadata": {},
   "outputs": [],
   "source": [
    "#non-dp\n",
    "def highest_rated_movie_nodf(df):\n",
    "        means = [(df.iloc[i, 2:6].mean()) for i in range(df.shape[0])]\n",
    "        max_rating = max(means)\n",
    "        process = [abs(x - max_rating) for x in means]\n",
    "        orig_indices = list(df.index)\n",
    "        min_index = orig_indices[np.argmin(process)]\n",
    "        selected_row = df.loc[min_index, :]\n",
    "        return selected_row\n",
    "\n",
    "def highest_rated_movie_per_genre_nodf( df, genre):\n",
    "    means = [(df.iloc[i, 2:6].mean()) for i in range(df.shape[0]) if genre in df.iloc[i, 1]]\n",
    "    max_rating = max(means)\n",
    "    process = [abs(x - max_rating) for x in means]\n",
    "    orig_indices = list(df.index)\n",
    "    min_index = orig_indices[np.argmin(process)]\n",
    "    selected_row = df.loc[min_index, :]\n",
    "    return selected_row\n",
    "\n",
    "def movie_count_above_rating_nodf(df, thresh):\n",
    "    if not 0.0 <= thresh <= 100.0:\n",
    "        raise ValueError(\"invalid threshhold\")\n",
    "    means = [(df.iloc[i, 2:6].mean()) for i in range(df.shape[0]) if(df.iloc[i, 2:6].mean()) > thresh ]\n",
    "    return len(means)\n",
    "\n",
    "\n",
    "def average_per_genre_nodf( df, genre):\n",
    "    means = [(df.iloc[i, 2:6].mean()) for i in range(df.shape[0]) if genre in df.iloc[i, 1] ]\n",
    "    return sum(means) / len(means) if len(means) > 0 else 0.0\n",
    "\n",
    "\n",
    "def average_per_genre_scoretype_nodf( df, genre, scoretype):\n",
    "    try:\n",
    "        column_num = df.columns.get_loc(scoretype)\n",
    "    except:\n",
    "        raise ValueError(\"invalid scoretype argument\")\n",
    "    means = [df.iloc[i, column_num] for i in range(df.shape[0]) if genre in df.iloc[i, 1] ]\n",
    "    return sum(means) / len(means) if len(means) > 0 else 0.0\n",
    "\n",
    "def lowest_rated_movie_nodf( df):\n",
    "    means = [(df.iloc[i, 2:6].mean()) for i in range(df.shape[0])]\n",
    "    max_rating = min(means)\n",
    "    #process = [abs(x - max_rating) for x in means]\n",
    "    orig_indices = list(df.index)\n",
    "    min_index = orig_indices[np.argmin(means)]\n",
    "    selected_row = df.loc[min_index, :]\n",
    "    return selected_row\n"
   ]
  },
  {
   "cell_type": "code",
   "execution_count": 31,
   "id": "96d69dce-c444-4469-857d-7f199130644f",
   "metadata": {},
   "outputs": [
    {
     "data": {
      "text/plain": [
       "Title                    Bending the Arc\n",
       "Genre                      [Documentary]\n",
       "Hidden Gem Score                    92.0\n",
       "IMDb Score                          77.0\n",
       "Metacritic Score                    80.0\n",
       "Rotten Tomatoes Score              100.0\n",
       "Name: 734, dtype: object"
      ]
     },
     "execution_count": 31,
     "metadata": {},
     "output_type": "execute_result"
    }
   ],
   "source": [
    "lisst= highest_rated_movie_nodf(df)\n",
    "lisst1= highest_rated_movie(df,0.1)\n",
    "lisst2= highest_rated_movie(df,0.9)\n",
    "lisst"
   ]
  },
  {
   "cell_type": "code",
   "execution_count": 32,
   "id": "eb121f8a-605f-422e-aa5a-a429bd890b61",
   "metadata": {},
   "outputs": [
    {
     "data": {
      "text/plain": [
       "Title                        Screwball\n",
       "Genre                    [Documentary]\n",
       "Hidden Gem Score                  83.0\n",
       "IMDb Score                        71.0\n",
       "Metacritic Score                  72.0\n",
       "Rotten Tomatoes Score             94.0\n",
       "Name: 2514, dtype: object"
      ]
     },
     "execution_count": 32,
     "metadata": {},
     "output_type": "execute_result"
    }
   ],
   "source": [
    "lisst1"
   ]
  },
  {
   "cell_type": "code",
   "execution_count": 33,
   "id": "5a7cc035-6665-448b-9d4c-ed4a9f9ad903",
   "metadata": {},
   "outputs": [
    {
     "data": {
      "text/plain": [
       "Title                    Hotel by the River\n",
       "Genre                               [Drama]\n",
       "Hidden Gem Score                       85.0\n",
       "IMDb Score                             67.0\n",
       "Metacritic Score                       79.0\n",
       "Rotten Tomatoes Score                  95.0\n",
       "Name: 344, dtype: object"
      ]
     },
     "execution_count": 33,
     "metadata": {},
     "output_type": "execute_result"
    }
   ],
   "source": [
    "lisst2"
   ]
  },
  {
   "cell_type": "code",
   "execution_count": null,
   "id": "e2c41e82-7baf-49b0-83ff-0130fabe08c1",
   "metadata": {},
   "outputs": [],
   "source": []
  },
  {
   "cell_type": "code",
   "execution_count": 51,
   "id": "448ab43d-89d7-4227-9b15-b1aa19271fc8",
   "metadata": {},
   "outputs": [
    {
     "name": "stdout",
     "output_type": "stream",
     "text": [
      "(1000,)\n"
     ]
    }
   ],
   "source": [
    "print(imdbs.shape)"
   ]
  },
  {
   "cell_type": "code",
   "execution_count": null,
   "id": "1fc6d6e0-3537-4950-b4b7-4210e13a0a5a",
   "metadata": {},
   "outputs": [
    {
     "ename": "TypeError",
     "evalue": "array() takes from 1 to 2 positional arguments but 3 were given",
     "output_type": "error",
     "traceback": [
      "\u001b[1;31m---------------------------------------------------------------------------\u001b[0m",
      "\u001b[1;31mTypeError\u001b[0m                                 Traceback (most recent call last)",
      "\u001b[1;32m~\\AppData\\Local\\Temp/ipykernel_14288/3175012107.py\u001b[0m in \u001b[0;36m<module>\u001b[1;34m\u001b[0m\n\u001b[1;32m----> 1\u001b[1;33m \u001b[0marr\u001b[0m \u001b[1;33m=\u001b[0m \u001b[0mnp\u001b[0m\u001b[1;33m.\u001b[0m\u001b[0marray\u001b[0m\u001b[1;33m(\u001b[0m\u001b[1;33m[\u001b[0m\u001b[1;36m1\u001b[0m\u001b[1;33m,\u001b[0m \u001b[1;34m'a'\u001b[0m\u001b[1;33m,\u001b[0m \u001b[1;32mTrue\u001b[0m\u001b[1;33m]\u001b[0m\u001b[1;33m,\u001b[0m \u001b[1;33m[\u001b[0m\u001b[1;36m2\u001b[0m\u001b[1;33m,\u001b[0m \u001b[1;34m'b'\u001b[0m\u001b[1;33m,\u001b[0m \u001b[1;32mFalse\u001b[0m\u001b[1;33m]\u001b[0m\u001b[1;33m,\u001b[0m \u001b[1;33m[\u001b[0m\u001b[1;36m3\u001b[0m\u001b[1;33m,\u001b[0m \u001b[1;34m'c'\u001b[0m\u001b[1;33m,\u001b[0m \u001b[1;32mTrue\u001b[0m\u001b[1;33m]\u001b[0m\u001b[1;33m)\u001b[0m\u001b[1;33m\u001b[0m\u001b[1;33m\u001b[0m\u001b[0m\n\u001b[0m\u001b[0;32m      2\u001b[0m \u001b[0marr\u001b[0m\u001b[1;33m.\u001b[0m\u001b[0mshape\u001b[0m\u001b[1;33m\u001b[0m\u001b[1;33m\u001b[0m\u001b[0m\n",
      "\u001b[1;31mTypeError\u001b[0m: array() takes from 1 to 2 positional arguments but 3 were given"
     ]
    }
   ],
   "source": []
  }
 ],
 "metadata": {
  "kernelspec": {
   "display_name": "Python 3 (ipykernel)",
   "language": "python",
   "name": "python3"
  },
  "language_info": {
   "codemirror_mode": {
    "name": "ipython",
    "version": 3
   },
   "file_extension": ".py",
   "mimetype": "text/x-python",
   "name": "python",
   "nbconvert_exporter": "python",
   "pygments_lexer": "ipython3",
   "version": "3.9.6"
  }
 },
 "nbformat": 4,
 "nbformat_minor": 5
}
